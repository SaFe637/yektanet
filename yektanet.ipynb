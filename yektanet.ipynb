{
 "cells": [
  {
   "attachments": {},
   "cell_type": "markdown",
   "id": "ac1d21fa-520d-4a4c-9b26-7942fb833449",
   "metadata": {},
   "source": [
    "<h1 align=center style=\"line-height:200%;font-family:vazir;color:#0099cc\">\n",
    "<font face=\"vazirmatn\" color=\"#0099cc\">\n",
    "    یکتانت\n",
    "</font>\n",
    "</h1>\n",
    "\n",
    "<p dir=rtl style=\"direction: rtl;text-align: justify;line-height:200%;font-family:vazir;font-size:medium\">\n",
    "<font face=\"vazirmatn\" size=3>\n",
    "داده‌هایی که در این تمرین استفاده می‌کنیم، داده‌هایی است که شرکت یکتانت از وبسایت‌های مختلف جمع‌آوری کرده است. قصد داریم با بررسی آمار مشاهده‌ی کاربران از وب‌سایت‌ها، درصد شهرت وب‌سایت‌های فارسی با کلید‌واژه‌های پرکاربردتر را محاسبه و بررسی کنیم.\n",
    "</font>\n",
    "</p>\n"
   ]
  },
  {
   "attachments": {},
   "cell_type": "markdown",
   "id": "e76aae32",
   "metadata": {},
   "source": [
    "<h2 align=right style=\"line-height:200%;font-family:vazir;color:#0099cc\">\n",
    "<font face=\"vazirmatn\" color=\"#0099cc\">\n",
    "مجموعه‌داده\n",
    "</font>\n",
    "</h2>\n",
    "\n",
    "<p dir=rtl style=\"direction: rtl;text-align: justify;line-height:200%;font-family:vazir;font-size:medium\">\n",
    "<font face=\"vazirmatn\" size=3>\n",
    "داده‌های این تمرین از طریق فایل <code>yektanet.csv</code> در دسترس شما قرار گرفته است. ابتدا این فایل را خوانده و نگاهی به آن بیندازید. توضیح هرکدام از ستون‌های این مجموعه‌داده در جدول زیر آمده است:\n",
    "</font>\n",
    "</p>\n",
    "\n",
    "<center>\n",
    "<div dir=rtl style=\"direction: rtl;line-height:200%;font-family:vazir;font-size:medium\">\n",
    "<font face=\"vazirmatn\" size=3>\n",
    "\n",
    "| ستون | توضیح |\n",
    "| :---: | :---: |\n",
    "| `keywords` | کلیدواژه‌هایی که هر وب‌سایت با آن‌ها تعریف می‌شود و معمولاً در جست‌و‌جوها با آن موضوع نمایش داده می‌شود. |\n",
    "| `segments` | دسته‌بندی‌هایی که برای هر وب‌سایت در نظر می‌گیریم و برای تبلیغات استفاده می‌شوند. |\n",
    "| `visit count` | تعداد بازدیدهای متوسط صفحه در یک روز |\n",
    "\n",
    "</font>\n",
    "</div>\n",
    "</center>"
   ]
  },
  {
   "cell_type": "code",
   "execution_count": 3,
   "id": "65ff8052",
   "metadata": {},
   "outputs": [],
   "source": [
    "import pandas as pd \n",
    "import numpy as np"
   ]
  },
  {
   "cell_type": "code",
   "execution_count": 4,
   "id": "995dac76",
   "metadata": {},
   "outputs": [
    {
     "data": {
      "text/html": [
       "<div>\n",
       "<style scoped>\n",
       "    .dataframe tbody tr th:only-of-type {\n",
       "        vertical-align: middle;\n",
       "    }\n",
       "\n",
       "    .dataframe tbody tr th {\n",
       "        vertical-align: top;\n",
       "    }\n",
       "\n",
       "    .dataframe thead th {\n",
       "        text-align: right;\n",
       "    }\n",
       "</style>\n",
       "<table border=\"1\" class=\"dataframe\">\n",
       "  <thead>\n",
       "    <tr style=\"text-align: right;\">\n",
       "      <th></th>\n",
       "      <th>keywords</th>\n",
       "      <th>segments</th>\n",
       "      <th>visit count</th>\n",
       "    </tr>\n",
       "  </thead>\n",
       "  <tbody>\n",
       "    <tr>\n",
       "      <th>0</th>\n",
       "      <td>['باران', 'پروفایل']</td>\n",
       "      <td>['khanevadehvakhanedari', 'salamat', 'moosighi...</td>\n",
       "      <td>127</td>\n",
       "    </tr>\n",
       "    <tr>\n",
       "      <th>1</th>\n",
       "      <td>['نتایج زنده', 'نتایج', 'زنده']</td>\n",
       "      <td>['maleSegment']</td>\n",
       "      <td>822</td>\n",
       "    </tr>\n",
       "    <tr>\n",
       "      <th>2</th>\n",
       "      <td>['معنی فارسی', 'معنی', 'فارسی', 'فارسی معنی']</td>\n",
       "      <td>['femaleSegment']</td>\n",
       "      <td>726</td>\n",
       "    </tr>\n",
       "    <tr>\n",
       "      <th>3</th>\n",
       "      <td>['نتایج زنده', 'نتایج', 'زنده']</td>\n",
       "      <td>['maleSegment']</td>\n",
       "      <td>307</td>\n",
       "    </tr>\n",
       "    <tr>\n",
       "      <th>4</th>\n",
       "      <td>['نتایج زنده', 'نتایج', 'زنده']</td>\n",
       "      <td>['maleSegment']</td>\n",
       "      <td>778</td>\n",
       "    </tr>\n",
       "    <tr>\n",
       "      <th>...</th>\n",
       "      <td>...</td>\n",
       "      <td>...</td>\n",
       "      <td>...</td>\n",
       "    </tr>\n",
       "    <tr>\n",
       "      <th>219614</th>\n",
       "      <td>['نتایج زنده', 'نتایج', 'زنده']</td>\n",
       "      <td>['maleSegment', 'varzeshi']</td>\n",
       "      <td>641</td>\n",
       "    </tr>\n",
       "    <tr>\n",
       "      <th>219615</th>\n",
       "      <td>['زیرنویس', 'فارسی فیلم', 'دانلود زیرنویس']</td>\n",
       "      <td>['femaleSegment']</td>\n",
       "      <td>355</td>\n",
       "    </tr>\n",
       "    <tr>\n",
       "      <th>219616</th>\n",
       "      <td>['سامان', 'ساعت']</td>\n",
       "      <td>['femaleSegment']</td>\n",
       "      <td>40</td>\n",
       "    </tr>\n",
       "    <tr>\n",
       "      <th>219617</th>\n",
       "      <td>['چشم', 'تنظیم', 'رنگ', 'نرم']</td>\n",
       "      <td>['technology']</td>\n",
       "      <td>523</td>\n",
       "    </tr>\n",
       "    <tr>\n",
       "      <th>219618</th>\n",
       "      <td>['خارجی', 'قوی', 'ایرانی خارجی', 'ایرانی']</td>\n",
       "      <td>['femaleSegment']</td>\n",
       "      <td>906</td>\n",
       "    </tr>\n",
       "  </tbody>\n",
       "</table>\n",
       "<p>219619 rows × 3 columns</p>\n",
       "</div>"
      ],
      "text/plain": [
       "                                             keywords  \\\n",
       "0                                ['باران', 'پروفایل']   \n",
       "1                     ['نتایج زنده', 'نتایج', 'زنده']   \n",
       "2       ['معنی فارسی', 'معنی', 'فارسی', 'فارسی معنی']   \n",
       "3                     ['نتایج زنده', 'نتایج', 'زنده']   \n",
       "4                     ['نتایج زنده', 'نتایج', 'زنده']   \n",
       "...                                               ...   \n",
       "219614                ['نتایج زنده', 'نتایج', 'زنده']   \n",
       "219615    ['زیرنویس', 'فارسی فیلم', 'دانلود زیرنویس']   \n",
       "219616                              ['سامان', 'ساعت']   \n",
       "219617                 ['چشم', 'تنظیم', 'رنگ', 'نرم']   \n",
       "219618     ['خارجی', 'قوی', 'ایرانی خارجی', 'ایرانی']   \n",
       "\n",
       "                                                 segments  visit count  \n",
       "0       ['khanevadehvakhanedari', 'salamat', 'moosighi...          127  \n",
       "1                                         ['maleSegment']          822  \n",
       "2                                       ['femaleSegment']          726  \n",
       "3                                         ['maleSegment']          307  \n",
       "4                                         ['maleSegment']          778  \n",
       "...                                                   ...          ...  \n",
       "219614                        ['maleSegment', 'varzeshi']          641  \n",
       "219615                                  ['femaleSegment']          355  \n",
       "219616                                  ['femaleSegment']           40  \n",
       "219617                                     ['technology']          523  \n",
       "219618                                  ['femaleSegment']          906  \n",
       "\n",
       "[219619 rows x 3 columns]"
      ]
     },
     "execution_count": 4,
     "metadata": {},
     "output_type": "execute_result"
    }
   ],
   "source": [
    "df = pd.read_csv(\"yektanet.csv\")\n",
    "df"
   ]
  },
  {
   "attachments": {},
   "cell_type": "markdown",
   "id": "4d3fbe6b",
   "metadata": {},
   "source": [
    "<h2 align=right style=\"line-height:200%;font-family:vazir;color:#0099cc\">\n",
    "<font face=\"vazirmatn\" color=\"#0099cc\">\n",
    "    قسمت اول\n",
    "</font>\n",
    "</h2>\n",
    "\n",
    "<p dir=rtl style=\"direction: rtl;text-align: justify;line-height:200%;font-family:vazir;font-size:medium\">\n",
    "<font face=\"vazirmatn\" size=3>\n",
    "    با استفاده از گروه‌بندی و تابع <code>filter</code>، وب‌سایت‌هایی را انتخاب کنید که کلیدواژه‌ی مربوط به آن‌ها، بیشتر از ۱۴۰۰ وب‌سایت را شامل می‌شود. به بیان دیگر، آن لیست کلیدواژه بیش از ۱۴۰۰ بار در دیتافریم تکرار شده باشد. حاصل را در متغیر <code>filtered_df</code> ذخیره کنید.\n",
    "</font>\n",
    "</p>\n",
    "\n",
    "<p dir=rtl style=\"direction: rtl;text-align: justify;line-height:200%;font-family:vazir;font-size:medium\">\n",
    "<font face=\"vazirmatn\" size=3>\n",
    "<span style=\"color:green\"><b>راهنمایی:</b></span>\n",
    " ابتدا تابع <code>groupby</code> را برای کلید‌واژه‌ها اعمال کرده و سپس از از تابع <code>len</code> برای بررسی تعداد اعضا استفاده کنید. توجه کنید <b> لازم نیست </b>گروه‌بندی براساس هر عضو داخل آرایه‌ی کلیدواژه‌ها انجام شود.\n",
    "</font>\n",
    "</p>"
   ]
  },
  {
   "cell_type": "code",
   "execution_count": 14,
   "id": "1f051715-851e-4865-b14f-dfe975ec0b2b",
   "metadata": {},
   "outputs": [
    {
     "data": {
      "text/plain": [
       "54950"
      ]
     },
     "execution_count": 14,
     "metadata": {},
     "output_type": "execute_result"
    }
   ],
   "source": [
    "filtered_df = len(df.groupby(df['keywords']))\n",
    "filtered_df"
   ]
  },
  {
   "attachments": {},
   "cell_type": "markdown",
   "id": "81e5af66",
   "metadata": {},
   "source": [
    "<h2 align=right style=\"line-height:200%;font-family:vazir;color:#0099cc\">\n",
    "<font face=\"vazirmatn\" color=\"#0099cc\">\n",
    "    قسمت دوم\n",
    "</font>\n",
    "</h2>\n",
    "\n",
    "<p dir=rtl style=\"direction: rtl;text-align: justify;line-height:200%;font-family:vazir;font-size:medium\">\n",
    "<font face=\"vazirmatn\" size=3>\n",
    "    اکنون ستونی به نام <code>popularity</code> را به دیتافریم <code>filtered_df</code> اضافه کنید که نسبت تعداد بازدید هر وب‌سایت به مجموع تعداد بازدید تمام وب‌سایت‌های آن کلیدواژه را شامل شود.\n",
    "</font>\n",
    "</p>\n",
    "\n",
    "<p dir=rtl style=\"direction: rtl;text-align: justify;line-height:200%;font-family:vazir;font-size:medium\">\n",
    "<font face=\"vazirmatn\" size=3>\n",
    "<span style=\"color:green\"><b>راهنمایی:</b></span>\n",
    "بعد از انجام گروه‌بندی بر اساس <code>keywords</code>، تابع <code>transfrom</code> را روی ستون <code>visit count</code> اعمال کرده و نسبت بازید هر وب‌سایت به مجموع بازدیدهای آن گروه کلیدواژه را محاسبه و در ۱۰۰ ضرب کنید.\n",
    "</font>\n",
    "</p>"
   ]
  },
  {
   "cell_type": "code",
   "execution_count": 5,
   "id": "a7ccd820-70b9-4d19-ad6e-36fe65c8c16b",
   "metadata": {},
   "outputs": [],
   "source": [
    "filtered_df['popularity']  = filtered_df['visit count']/ \n",
    "filtered_df"
   ]
  }
 ],
 "metadata": {
  "kernelspec": {
   "display_name": "Python 3 (ipykernel)",
   "language": "python",
   "name": "python3"
  },
  "language_info": {
   "codemirror_mode": {
    "name": "ipython",
    "version": 3
   },
   "file_extension": ".py",
   "mimetype": "text/x-python",
   "name": "python",
   "nbconvert_exporter": "python",
   "pygments_lexer": "ipython3",
   "version": "3.13.5"
  },
  "vscode": {
   "interpreter": {
    "hash": "44e7e1b8fa2096bd5707ed7fd18b1724a2db25f4c565a7673f8b6e7bfc49d25d"
   }
  }
 },
 "nbformat": 4,
 "nbformat_minor": 5
}
